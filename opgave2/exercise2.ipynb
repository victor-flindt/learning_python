{
 "cells": [
  {
   "cell_type": "markdown",
   "id": "12491b8f-5b6d-4037-9f81-e6131b111f17",
   "metadata": {},
   "source": [
    "## De første skridt\n"
   ]
  },
  {
   "cell_type": "markdown",
   "id": "879f9d71-f73b-4e2b-a516-a8e43814e6a8",
   "metadata": {},
   "source": [
    "Lad os snakke om variable typer, og så lad os lave en connected print statement for at vise hvordan vi kan lege med det "
   ]
  },
  {
   "cell_type": "code",
   "execution_count": null,
   "id": "7dfdb38f-9238-44b9-b4b2-eed715124fcf",
   "metadata": {},
   "outputs": [],
   "source": [
    "hb@cg-gym.dk\n",
    "\n",
    "mp@cg-gym.dk"
   ]
  }
 ],
 "metadata": {
  "kernelspec": {
   "display_name": "Python 3 (ipykernel)",
   "language": "python",
   "name": "python3"
  },
  "language_info": {
   "codemirror_mode": {
    "name": "ipython",
    "version": 3
   },
   "file_extension": ".py",
   "mimetype": "text/x-python",
   "name": "python",
   "nbconvert_exporter": "python",
   "pygments_lexer": "ipython3",
   "version": "3.9.7"
  }
 },
 "nbformat": 4,
 "nbformat_minor": 5
}
