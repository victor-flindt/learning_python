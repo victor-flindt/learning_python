{
 "cells": [
  {
   "cell_type": "code",
   "execution_count": 25,
   "id": "d415145b-af71-425b-ab60-b806ba7affb1",
   "metadata": {},
   "outputs": [
    {
     "name": "stdin",
     "output_type": "stream",
     "text": [
      " 12\n"
     ]
    }
   ],
   "source": [
    "A = int(input())\n",
    "nedre_grænse = 0\n",
    "øvre_grænse = 10"
   ]
  },
  {
   "cell_type": "code",
   "execution_count": 26,
   "id": "52f482fc-0702-4e5f-bf81-07c5caed760f",
   "metadata": {},
   "outputs": [
    {
     "name": "stdout",
     "output_type": "stream",
     "text": [
      "False\n"
     ]
    }
   ],
   "source": [
    "er_ok = (A > nedre_grænse) and (A < øvre_grænse)\n",
    "print(er_ok)"
   ]
  }
 ],
 "metadata": {
  "kernelspec": {
   "display_name": "Python 3 (ipykernel)",
   "language": "python",
   "name": "python3"
  },
  "language_info": {
   "codemirror_mode": {
    "name": "ipython",
    "version": 3
   },
   "file_extension": ".py",
   "mimetype": "text/x-python",
   "name": "python",
   "nbconvert_exporter": "python",
   "pygments_lexer": "ipython3",
   "version": "3.9.7"
  }
 },
 "nbformat": 4,
 "nbformat_minor": 5
}
