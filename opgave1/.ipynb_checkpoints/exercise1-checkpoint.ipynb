{
 "cells": [
  {
   "cell_type": "markdown",
   "id": "705d82c5",
   "metadata": {
    "tags": []
   },
   "source": [
    "# 1. Starter fra starten \n",
    "\n",
    "Normalt når man bruger python eksekvere (eller køre) man det gennem sin terminal. \n",
    "\n",
    "I dette kursus kommer vi til at bruge en \"Jupyter notebook\" eller en \"Jupyter lab\". \n",
    "\n",
    "Dette er et format som er lidt mere overskueligt, men også veldigt nyttigt da vi kan køre kode i seperate celler.\n",
    "\n",
    "men i bund og grund emulere Jupyter notebooks at køre python i terminal, gemmer det væk, så vi kan fokusere på koden og ikke alt andet. (Det skal vi nok komme til)"
   ]
  },
  {
   "cell_type": "markdown",
   "id": "9c2c5305-4918-49c8-9287-d62c58d992f0",
   "metadata": {},
   "source": [
    "## 1.1 Python fra terminalen\n",
    "\n",
    "Åbn en ny terminal ved at højreklikke i mappen learning_python/opgave1 og vælge \"Start terminal\" eller lignende.\n",
    "\n",
    "Kør kommandoen: ```python3 hej_verden.py```. \n",
    "\n",
    "Du skulle nu kunne se et output fra filen efter at have kørt kommandoen! Hvis du har lyst, kan du prøve at åbne filen, ændre den tekst, der bliver printet, gemme filen og derefter køre den igen. Tjek, om outputtet fra filen nu svarer til det, du har ændret!\n",
    "\n",
    "\n",
    "Men som sagt kommer vi til at bruge Jupyter Lab, for at opnå et tilsvarende resultat kan vi bruge denne kommando:"
   ]
  },
  {
   "cell_type": "markdown",
   "id": "8ca6a3d4-9e90-4e60-910a-7241c6169f8e",
   "metadata": {},
   "source": [
    "```python\n",
    "print(\"hejsa fra Jupyter lab cellen!\")\n",
    "```"
   ]
  },
  {
   "cell_type": "markdown",
   "id": "daf4f801-2453-4bc0-8a6b-cd642520855a",
   "metadata": {},
   "source": [
    "Prøv at tast den overstående kommando ind i cellen under og tryk ```<ctrl> + <enter>``` "
   ]
  },
  {
   "cell_type": "code",
   "execution_count": null,
   "id": "95d47460-4332-4e84-806c-db979646ae01",
   "metadata": {},
   "outputs": [],
   "source": []
  },
  {
   "cell_type": "markdown",
   "id": "c04a0166-f83c-4aa0-9993-bc0337d380cf",
   "metadata": {},
   "source": [
    "Hvad skete der ?\n",
    "\n",
    "Der skete det du lige har kørt dit første Python program !!\n",
    "\n",
    "*husk \"print()\" kommandoen, den kommer du til at bruge rigtig meget i fremtiden."
   ]
  },
  {
   "cell_type": "markdown",
   "id": "6516b455-f2f8-4740-944d-93adf0595b3e",
   "metadata": {
    "tags": []
   },
   "source": [
    "## 1.2 Matematik i Python\n",
    "\n",
    "Et genial koncept ved kodning (i stort set alle sprog) er at man meget sjældent skal lave komplekse matematiske udtryk. 99% af tiden er der kun brug for basal aritmetik som at lægge 2 tal sammen, gange, dividere etc. etc.\n",
    "\n",
    "Dette kan Python selvfølgelig også klare, lad os tage et kig på hvordan notationen ser ud.\n",
    "\n",
    "Addition =  +\n",
    "\n",
    "Subtraktion = -\n",
    "\n",
    "Multiplikation = *\n",
    "\n",
    "Division = /\n",
    "\n",
    "Mod = %\n",
    "\n",
    "Eksponentiering = **"
   ]
  },
  {
   "cell_type": "markdown",
   "id": "2f4c1309-b050-4d03-8fee-ba746e538164",
   "metadata": {},
   "source": [
    "### Addition"
   ]
  },
  {
   "cell_type": "code",
   "execution_count": null,
   "id": "6b711369-6ddd-4939-989c-e3ed6a0f42e6",
   "metadata": {},
   "outputs": [],
   "source": [
    "1 + 2"
   ]
  },
  {
   "cell_type": "markdown",
   "id": "338ed695-8101-4fc6-92b6-17b38140cc22",
   "metadata": {},
   "source": [
    "### Subtration"
   ]
  },
  {
   "cell_type": "code",
   "execution_count": null,
   "id": "126ab30f-2284-43ff-ae28-6a42a04d74b4",
   "metadata": {},
   "outputs": [],
   "source": [
    "4-3"
   ]
  },
  {
   "cell_type": "markdown",
   "id": "96e3b28d-b7b0-4d56-95a4-185e77177056",
   "metadata": {},
   "source": [
    "### Multiplikation"
   ]
  },
  {
   "cell_type": "code",
   "execution_count": null,
   "id": "73f8e2d9-9dcb-4d1c-b9f5-6c1a56e56043",
   "metadata": {},
   "outputs": [],
   "source": [
    "3*4"
   ]
  },
  {
   "cell_type": "markdown",
   "id": "dc8c5fe1-c2e5-4141-8b92-0a1d0c487108",
   "metadata": {},
   "source": [
    "### Divison"
   ]
  },
  {
   "cell_type": "code",
   "execution_count": null,
   "id": "1a6a8804-efba-4264-b218-839802ffbca1",
   "metadata": {},
   "outputs": [],
   "source": [
    "2/1"
   ]
  },
  {
   "cell_type": "markdown",
   "id": "8735c64f-eddb-4fa4-aa62-8face38d1bcc",
   "metadata": {},
   "source": [
    "### Mod (Modulo)"
   ]
  },
  {
   "cell_type": "code",
   "execution_count": null,
   "id": "8b1b6d26-610f-456f-8ab8-1ef1eca63184",
   "metadata": {},
   "outputs": [],
   "source": [
    "5%4"
   ]
  },
  {
   "cell_type": "markdown",
   "id": "febdece8-90ec-4536-bc02-3d4094547377",
   "metadata": {},
   "source": [
    "### Eksponentiering (eksponent)"
   ]
  },
  {
   "cell_type": "code",
   "execution_count": null,
   "id": "6394940f-38cd-4eb1-95f1-3c89e2ae06e6",
   "metadata": {},
   "outputs": [],
   "source": [
    "2**3"
   ]
  },
  {
   "cell_type": "markdown",
   "id": "d583099a-cc5d-46f0-8465-cffb0e5e3f85",
   "metadata": {},
   "source": [
    "### Parentes"
   ]
  },
  {
   "cell_type": "code",
   "execution_count": null,
   "id": "48b88062-0982-4b20-bdc5-eab474609c71",
   "metadata": {},
   "outputs": [],
   "source": [
    "(1 + 2) * 3"
   ]
  },
  {
   "cell_type": "markdown",
   "id": "a42012e9-e33c-4cfa-905e-30a944a537de",
   "metadata": {},
   "source": [
    "Hvilket **ikke** er det samme som 1 + 2 * 3"
   ]
  },
  {
   "cell_type": "code",
   "execution_count": null,
   "id": "7813e3d6-998f-4502-bca8-728ae5846bf5",
   "metadata": {},
   "outputs": [],
   "source": [
    "1 + 2 * 3"
   ]
  },
  {
   "cell_type": "markdown",
   "id": "9bb42d2e-4727-4c53-ae9b-c5fc9c147ea8",
   "metadata": {},
   "source": [
    "## 1.2 Variabler"
   ]
  },
  {
   "cell_type": "markdown",
   "id": "0d47143a-b5d9-4834-acd2-d3c23aa11275",
   "metadata": {},
   "source": [
    "\n",
    "I et virkelig scenarie er det sjældent, og oftes set som \"dårlig practice\" at bruge rene tal på den måde vi har indtil videre. \n",
    "\n",
    "Dette er tildels grundet \"gennemskuelighed\" i ens kode, hvis jeg skriver 3.141 +  2.71 kan det oftes være svært for den næste der skal læse koden at gennemskue hvor jeg fik lige de værdier fra.\n",
    "Hvis jeg derimod skriver pi = 3.141, eulers_nummer = 2.71.... pi+eulers_nummer, er det svært at tage fejl hvor jeg har fundet de 2 tal fra.\n",
    "\n",
    "I Python behøver vi ikke fortælle vores computer hvilken slags data type en variable kommer til at være, hvilket giver visse fordele.\n",
    "\n",
    "........................................\n",
    "\n",
    "I python er der flere måder at lave variabler på, den simpleste er at lave 1 variable pr linje. Dette kan gøres således:\n",
    "\n",
    "a = 3\n",
    "\n",
    "b = 2\n",
    "\n",
    "Prøv at lav 2 variabler og læg dem sammen ! \n",
    "\n"
   ]
  },
  {
   "cell_type": "code",
   "execution_count": 4,
   "id": "d2f0c69b-088e-454d-b639-aaa9c2eceb45",
   "metadata": {},
   "outputs": [],
   "source": []
  },
  {
   "cell_type": "markdown",
   "id": "d652724f-b684-477a-9632-51fa3d67e10d",
   "metadata": {},
   "source": [
    "## 1.3 Kommentare"
   ]
  },
  {
   "cell_type": "markdown",
   "id": "15f3c3f5-ed1a-4a4e-92d0-0e539d1a2d95",
   "metadata": {},
   "source": [
    "En stor del af at skrive \"pæn\" kode er at dokumentere hvad man laver, så man selv, eller andre, kan gennemskue det i fremtiden.\n",
    "Der er ikke nogen strikte regler for hvordan man bedst laver kommentare, og er noget man må føle sig frem til med tiden. \n",
    "\n",
    "Det ses dog ofte at folk starter deres Python programmer med en kort beskrivelse af hvad programmet kan eller har til formål at gøre.\n",
    "\n",
    "Jeg kan personligt også godt lide at smide en kommentar ind i et stykke kode hvis den del af koden er specielt forvirrende at kigge på, og jeg forventer at jeg glemmer hvad den gør i fremtiden.\n",
    "\n",
    "........................................\n",
    "\n",
    "Kommentre i Python starter med # og kan være på en linje for sigselv eller i slutningen af et udtryk.\n",
    "\n",
    "Eksempel.\n"
   ]
  },
  {
   "cell_type": "code",
   "execution_count": null,
   "id": "850894c8-b8cb-476f-88e8-93d63b7174d0",
   "metadata": {},
   "outputs": [],
   "source": [
    "\"Prøv at kør dette kode! \" * 2 # Dette kode giver ingen mening "
   ]
  },
  {
   "cell_type": "code",
   "execution_count": 11,
   "id": "2b5bede7-95d8-41a8-83c1-a437b3367e9d",
   "metadata": {},
   "outputs": [],
   "source": [
    "## Kode kan også stå for sigselv som her."
   ]
  },
  {
   "cell_type": "markdown",
   "id": "1ff0dc71-2a8d-432a-8a5a-25102ee2446e",
   "metadata": {},
   "source": [
    "Og i disse \"notebooks\" kan vi bruge et andet programmerings sprog der hedder \"markdown\" som er brugt meget til at formattere tekst til at se pænt ud\n",
    "\n",
    "Dette er **ikke** en Python feature og kan kun gøres i denne slags Notebook format, men det giver os mulighed for at formattere vores notebooks på en lidt mere overskuelig manér.\n",
    "\n",
    "Hvis du dobbelt clicker på cellen her, åbner du den og kan redigere i den. ctrl + enter for at køre cellen og formatere teksten"
   ]
  },
  {
   "cell_type": "markdown",
   "id": "1968d7b2-ebdc-462a-9591-4b6c41ad73f9",
   "metadata": {},
   "source": [
    "Det kan også være smart at udkommentere kode hvis man tester noget, så kan man beholde sin kode og bare slette kommentar mærket hvis man gerne vil have det ind i sin kode igen.\n",
    "\n",
    "\n",
    "........................................\n",
    "\n",
    "Kommentare kan også være i starten af en kode linje der skal gemmes men ikke køres\n",
    "\n",
    "Eksempel:\n"
   ]
  },
  {
   "cell_type": "code",
   "execution_count": null,
   "id": "690eb939-9da8-48fd-b46f-d7ca4d413f45",
   "metadata": {},
   "outputs": [],
   "source": [
    "## print(\"denne del af koden køre ikke\")\n",
    "\n",
    "print(\"men det gør denne\") "
   ]
  },
  {
   "cell_type": "markdown",
   "id": "dda07336-64c8-4746-83f2-f285870c35bd",
   "metadata": {},
   "source": [
    "Prøv at byt rundt på hvilken print statement der er kommenteret ud ! "
   ]
  },
  {
   "cell_type": "code",
   "execution_count": null,
   "id": "aca34fe4-f4a3-4c89-b058-0f9568696771",
   "metadata": {},
   "outputs": [],
   "source": []
  }
 ],
 "metadata": {
  "kernelspec": {
   "display_name": "Python 3 (ipykernel)",
   "language": "python",
   "name": "python3"
  },
  "language_info": {
   "codemirror_mode": {
    "name": "ipython",
    "version": 3
   },
   "file_extension": ".py",
   "mimetype": "text/x-python",
   "name": "python",
   "nbconvert_exporter": "python",
   "pygments_lexer": "ipython3",
   "version": "3.9.7"
  }
 },
 "nbformat": 4,
 "nbformat_minor": 5
}
