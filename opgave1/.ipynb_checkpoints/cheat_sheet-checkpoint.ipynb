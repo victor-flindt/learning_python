{
 "cells": [
  {
   "cell_type": "code",
   "execution_count": 6,
   "id": "ff7e0292-b4ec-4b6f-b396-f6d84a78da85",
   "metadata": {
    "jupyter": {
     "source_hidden": true
    },
    "tags": []
   },
   "outputs": [],
   "source": [
    "def hello_world():\n",
    "    print('hello world')\n",
    "    print('hello world')\n",
    "    print('hello world')\n",
    "    print('hello world')\n",
    "    print('hello world')\n",
    "    print('hello world')"
   ]
  },
  {
   "cell_type": "code",
   "execution_count": 7,
   "id": "318fa59f-1376-4aa3-b12f-ccea524eca40",
   "metadata": {
    "tags": []
   },
   "outputs": [
    {
     "name": "stdout",
     "output_type": "stream",
     "text": [
      "hello world\n",
      "hello world\n",
      "hello world\n",
      "hello world\n",
      "hello world\n",
      "hello world\n"
     ]
    }
   ],
   "source": [
    "hello_world()"
   ]
  },
  {
   "cell_type": "code",
   "execution_count": null,
   "id": "3af5f8b6-43a4-4de6-b437-ba0d40c120cb",
   "metadata": {},
   "outputs": [],
   "source": [
    "print"
   ]
  }
 ],
 "metadata": {
  "kernelspec": {
   "display_name": "Python 3 (ipykernel)",
   "language": "python",
   "name": "python3"
  },
  "language_info": {
   "codemirror_mode": {
    "name": "ipython",
    "version": 3
   },
   "file_extension": ".py",
   "mimetype": "text/x-python",
   "name": "python",
   "nbconvert_exporter": "python",
   "pygments_lexer": "ipython3",
   "version": "3.9.7"
  }
 },
 "nbformat": 4,
 "nbformat_minor": 5
}
