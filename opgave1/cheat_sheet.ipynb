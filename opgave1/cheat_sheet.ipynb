{
 "cells": [
  {
   "cell_type": "markdown",
   "id": "892009a6-c3c6-49a5-89b5-f0fad7ec1d33",
   "metadata": {},
   "source": [
    "## Kommandoer"
   ]
  },
  {
   "cell_type": "markdown",
   "id": "1a38297b-3354-4a99-95bc-8435d1abfff7",
   "metadata": {},
   "source": [
    "* køre celle: ctrl + enter\n"
   ]
  }
 ],
 "metadata": {
  "kernelspec": {
   "display_name": "Python 3 (ipykernel)",
   "language": "python",
   "name": "python3"
  },
  "language_info": {
   "codemirror_mode": {
    "name": "ipython",
    "version": 3
   },
   "file_extension": ".py",
   "mimetype": "text/x-python",
   "name": "python",
   "nbconvert_exporter": "python",
   "pygments_lexer": "ipython3",
   "version": "3.9.7"
  }
 },
 "nbformat": 4,
 "nbformat_minor": 5
}
